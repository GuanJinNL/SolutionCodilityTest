{
 "cells": [
  {
   "cell_type": "code",
   "execution_count": 2,
   "metadata": {},
   "outputs": [],
   "source": [
    "def distance(p1,p2):\n",
    "    dist=abs(p1[0]-p2[0])+abs(p1[1]-p2[1])\n",
    "    return(dist)\n",
    "def zoekhuis(A):\n",
    "    m=len(A)\n",
    "    n=len(A[0])\n",
    "    B=[]\n",
    "    for i in range(m):\n",
    "        for j in range(n):\n",
    "            if A[i][j]==1:\n",
    "                B.append([i,j])\n",
    "    return(B) \n",
    "def extremum(B):#coordinaten van 'randhuizen' bepalen,eigenlijk weet ik niet of hier een ingebouwde functie voor is in Python\n",
    "    n=len(B)\n",
    "    xcord=[]\n",
    "    ycord=[]\n",
    "    for i in range(n):\n",
    "        xcord.append(B[i][0])\n",
    "        ycord.append(B[i][1])\n",
    "    [minix,maxix]=[min(xcord),max(xcord)]\n",
    "    [miniy,maxiy]=[min(ycord),max(ycord)]\n",
    "    return([[minix,maxix],[miniy,maxiy]])\n",
    "def solution(K, A):\n",
    "    m=len(A)\n",
    "    n=len(A[0])\n",
    "    B=zoekhuis(A)\n",
    "    n1=len(B)\n",
    "    bdry=extremum(B)\n",
    "    inside=False\n",
    "    placecount=0\n",
    "    for i in range(max(0,bdry[0][0]-K-1),min(m,bdry[0][1]+K+1)):#we zoeken niet verder dan buiten de radius K van de extreme gelegde huizen\n",
    "        for j in range(max(0,bdry[1][0]-K-1),min(n,bdry[1][1]+K+1)):\n",
    "            for k in range(n1):\n",
    "                if distance([i,j],B[k])<=K and [i,j]!=B[k]:\n",
    "                    inside=True\n",
    "                else:\n",
    "                    inside=False\n",
    "                    break\n",
    "            if inside==True:\n",
    "                placecount+=1\n",
    "    return(placecount)"
   ]
  },
  {
   "cell_type": "code",
   "execution_count": null,
   "metadata": {},
   "outputs": [],
   "source": []
  }
 ],
 "metadata": {
  "kernelspec": {
   "display_name": "Python 3",
   "language": "python",
   "name": "python3"
  },
  "language_info": {
   "codemirror_mode": {
    "name": "ipython",
    "version": 3
   },
   "file_extension": ".py",
   "mimetype": "text/x-python",
   "name": "python",
   "nbconvert_exporter": "python",
   "pygments_lexer": "ipython3",
   "version": "3.8.3"
  }
 },
 "nbformat": 4,
 "nbformat_minor": 4
}
